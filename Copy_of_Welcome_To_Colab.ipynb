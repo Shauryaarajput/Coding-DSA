{
  "cells": [
    {
      "cell_type": "markdown",
      "metadata": {
        "id": "view-in-github",
        "colab_type": "text"
      },
      "source": [
        "<a href=\"https://colab.research.google.com/github/Shauryaarajput/Coding-DSA/blob/main/Copy_of_Welcome_To_Colab.ipynb\" target=\"_parent\"><img src=\"https://colab.research.google.com/assets/colab-badge.svg\" alt=\"Open In Colab\"/></a>"
      ]
    },
    {
      "cell_type": "markdown",
      "source": [
        "**TWo Sum**"
      ],
      "metadata": {
        "id": "WecKzYU86cR4"
      }
    },
    {
      "cell_type": "code",
      "source": [
        "def twoSum(arr, target):\n",
        "    n = len(arr)\n",
        "\n",
        "    for i in range(n):\n",
        "\n",
        "        # For each element arr[i], check every\n",
        "        # other element arr[j] that comes after it\n",
        "        for j in range(i + 1, n):\n",
        "\n",
        "            # Check if the sum of the current pair\n",
        "            # equals the target\n",
        "            if arr[i] + arr[j] == target:\n",
        "                return True\n",
        "\n",
        "    # If no pair is found after checking\n",
        "    # all possibilities\n",
        "    return False\n",
        "\n",
        "if __name__ == \"__main__\":\n",
        "    arr = [0, -1, 2, -3, 1]\n",
        "    target = -2\n",
        "\n",
        "    if twoSum(arr, target):\n",
        "        print(\"true\")\n",
        "    else:\n",
        "        print(\"false\")"
      ],
      "metadata": {
        "colab": {
          "base_uri": "https://localhost:8080/"
        },
        "id": "WpKLWY076l_4",
        "outputId": "56fb0743-2806-4f22-c856-09fd2c76ae7f"
      },
      "execution_count": null,
      "outputs": [
        {
          "output_type": "stream",
          "name": "stdout",
          "text": [
            "true\n"
          ]
        }
      ]
    },
    {
      "cell_type": "markdown",
      "source": [
        "**Share Market**"
      ],
      "metadata": {
        "id": "6FIGj5R769MD"
      }
    },
    {
      "cell_type": "code",
      "source": [
        "def stock(prices):\n",
        "  diff = 0 # max difference btn the prices means high profit\n",
        "  for i in range(len(prices)-1): # loop for buying the stock\n",
        "    for j in range (i+1 , len(prices)): # loop for selling the stock\n",
        "      diff = max(diff,prices[j]-prices[i])\n",
        "  return diff\n",
        "\n",
        "if __name__==\"__main__\": #driver code\n",
        "  prices = [7, 10, 1, 3, 6, 9, 2]\n",
        "  print(stock(prices))\n"
      ],
      "metadata": {
        "colab": {
          "base_uri": "https://localhost:8080/"
        },
        "id": "IScp02Ql7Qt-",
        "outputId": "f85ce546-c83b-469a-cb17-ca0a3f3df1e3"
      },
      "execution_count": null,
      "outputs": [
        {
          "output_type": "stream",
          "name": "stdout",
          "text": [
            "8\n"
          ]
        }
      ]
    },
    {
      "cell_type": "markdown",
      "source": [
        "**Duplcates**"
      ],
      "metadata": {
        "id": "s4LQzwlq9kvM"
      }
    },
    {
      "cell_type": "code",
      "source": [
        "# Python code to find duplicates in an array\n",
        "# using auxiliary array\n",
        "\n",
        "\n",
        "def findDuplicates(arr):\n",
        "    n = len(arr)\n",
        "    freqArr = [0] * n # list with n element initalized as 0\n",
        "    result = []\n",
        "\n",
        "    # Step 2: Iterate through the array and\n",
        "    # count element frequencies\n",
        "    for num in arr:\n",
        "        freqArr[num] += 1\n",
        "\n",
        "    # Step 3: Iterate through all the possible\n",
        "    # elements to check duplicates\n",
        "    for i in range(n):\n",
        "        if freqArr[i] > 1:\n",
        "            result.append(i)\n",
        "\n",
        "    # Step 4: If no duplicates found,\n",
        "    # add -1 to the result\n",
        "    if not result:\n",
        "        result.append(-1)\n",
        "\n",
        "    # Step 6: Return the result list containing\n",
        "    # duplicate elements or -1\n",
        "    return result\n",
        "\n",
        "\n",
        "if __name__ == \"__main__\":\n",
        "    arr = [1, 6, 5, 2, 3, 3, 2]\n",
        "    duplicates = findDuplicates(arr)\n",
        "\n",
        "    for element in duplicates:\n",
        "        print(element, end=\" \")"
      ],
      "metadata": {
        "colab": {
          "base_uri": "https://localhost:8080/"
        },
        "id": "9gTvfVjS9sC-",
        "outputId": "d794f286-be55-4df1-ec7d-889b80b9c1ba"
      },
      "execution_count": null,
      "outputs": [
        {
          "output_type": "stream",
          "name": "stdout",
          "text": [
            "2 3 "
          ]
        }
      ]
    },
    {
      "cell_type": "markdown",
      "source": [
        "** Product of array**\n"
      ],
      "metadata": {
        "id": "uEXJeGr8BdvW"
      }
    },
    {
      "cell_type": "code",
      "source": [
        "def product(arr):  calculating the product of all element except the self\n",
        "  n = len(arr)\n",
        "  res = [1] * n\n",
        "  for i in range(n):\n",
        "    for j in range(n):\n",
        "      if arr[i] != arr[j]:\n",
        "        res[i]  =res[i] * arr[j]\n",
        "  return res\n",
        "if __name__ == \"__main__\":\n",
        "    arr = [10, 3, 5, 6, 2]\n",
        "    res = product(arr)\n",
        "    print(\" \".join(map(str, res)))\n"
      ],
      "metadata": {
        "id": "JJORXG3IBmG6",
        "outputId": "73e50635-b8bf-408b-dc42-b07e587eb26d",
        "colab": {
          "base_uri": "https://localhost:8080/"
        }
      },
      "execution_count": null,
      "outputs": [
        {
          "output_type": "stream",
          "name": "stdout",
          "text": [
            "180 600 360 300 900\n"
          ]
        }
      ]
    },
    {
      "cell_type": "markdown",
      "source": [
        "**Maximum sum of subarray**"
      ],
      "metadata": {
        "id": "vu_A5GmLC8rK"
      }
    },
    {
      "cell_type": "code",
      "source": [
        "def max_sum(arr):  # maximum sum of subarray it can be single\n",
        "  n = len(arr)\n",
        "  res = a[0]   # consider first element as max\n",
        "  for i in range(n):\n",
        "    sum = 0\n",
        "    for j in range(i,n):\n",
        "      sum = sum +arr[j]\n",
        "\n",
        "      res = max(res,sum)\n",
        "  return res\n",
        "\n",
        "if __name__ == \"__main__\":\n",
        "    arr = [2, 3, -8, 7, -1, 2, 3]\n",
        "    print(maxSubarraySum(arr))\n"
      ],
      "metadata": {
        "id": "6KzwbxwqDAUt"
      },
      "execution_count": null,
      "outputs": []
    },
    {
      "cell_type": "markdown",
      "source": [
        "**Minimum Of array**"
      ],
      "metadata": {
        "id": "AECacW4nnx9C"
      }
    },
    {
      "cell_type": "code",
      "source": [
        "def minimum(arr):\n",
        "  min_val = arr[0]\n",
        "  for i in arr:\n",
        "    if i < min_val:\n",
        "      min_val = i\n",
        "  return min_val\n",
        "if __name__ == \"__main__\":\n",
        "    arr = [2, 3, -8, 7, -1, 2, 3]\n",
        "    print(minimum(arr))"
      ],
      "metadata": {
        "colab": {
          "base_uri": "https://localhost:8080/"
        },
        "id": "4LrtriFKouy3",
        "outputId": "62eb3505-f471-4b05-ba95-cb5670677ad2"
      },
      "execution_count": null,
      "outputs": [
        {
          "output_type": "stream",
          "name": "stdout",
          "text": [
            "-8\n"
          ]
        }
      ]
    },
    {
      "cell_type": "markdown",
      "source": [
        "**search in the sorted array**"
      ],
      "metadata": {
        "id": "DF8qdyf-p4Wm"
      }
    },
    {
      "cell_type": "code",
      "source": [
        "def search(arr,key):\n",
        "  for  i in range(len(arr)):\n",
        "    if arr[i] == key:\n",
        "      print(\"value found\")\n",
        "  return i\n",
        "if __name__ == \"__main__\":\n",
        "  arr=[4,5,2,4,6,3]\n",
        "  key = 3\n",
        "  print(search(arr,key))"
      ],
      "metadata": {
        "colab": {
          "base_uri": "https://localhost:8080/"
        },
        "id": "p3ikToUIp9bE",
        "outputId": "6327860f-4590-4e3e-ea15-ef88eb0ba72d"
      },
      "execution_count": null,
      "outputs": [
        {
          "output_type": "stream",
          "name": "stdout",
          "text": [
            "value found\n",
            "5\n"
          ]
        }
      ]
    },
    {
      "cell_type": "markdown",
      "source": [
        "**Chocolate Distribution**"
      ],
      "metadata": {
        "id": "eOBdkgpcQ5cw"
      }
    },
    {
      "cell_type": "code",
      "source": [
        "# Chocolate distribution such that every student get exactly one chocolate\n",
        "# solving using sliding window\n",
        "# Python program to solve chocolate distribution\n",
        "# problem using Sliding Window\n",
        "\n",
        "def findMinDiff(arr, m):\n",
        "    n = len(arr)\n",
        "\n",
        "    # Sort the given packets\n",
        "    arr.sort()\n",
        "\n",
        "    minDiff = float('inf')\n",
        "\n",
        "    for i in range(n - m + 1):\n",
        "\n",
        "        # calculate difference of current window\n",
        "        diff = arr[i + m - 1] - arr[i]\n",
        "\n",
        "        # if current difference is smaller\n",
        "        # then update the minimum difference\n",
        "        if diff < minDiff:\n",
        "            minDiff = diff\n",
        "\n",
        "    return minDiff\n",
        "\n",
        "if __name__ == \"__main__\":\n",
        "    arr = [7, 3, 2, 4, 9, 12, 56]\n",
        "    m = 3\n",
        "\n",
        "    print(findMinDiff(arr, m))\n",
        "\n"
      ],
      "metadata": {
        "id": "BzTJq4HiQ-pT",
        "colab": {
          "base_uri": "https://localhost:8080/"
        },
        "outputId": "1d94b681-36ac-45be-c59d-73c5bf62b989"
      },
      "execution_count": 4,
      "outputs": [
        {
          "output_type": "stream",
          "name": "stdout",
          "text": [
            "2\n"
          ]
        }
      ]
    },
    {
      "cell_type": "markdown",
      "source": [
        "**Anagram String**"
      ],
      "metadata": {
        "id": "P70sp7euYg4o"
      }
    },
    {
      "cell_type": "code",
      "source": [
        "# For string to be anagram length of string should be same\n",
        "# and string should be same\n",
        "def anagram(str1,str2):\n",
        "  if len(str1) != len(str2):\n",
        "    print(\"string is not anagram\")\n",
        "    return False  # Added to exit the function if lengths are different\n",
        "  # Convert strings to lists and sort them\n",
        "  sorted_str1 = sorted(str1)\n",
        "  sorted_str2 = sorted(str2)\n",
        "\n",
        "  if sorted_str1 == sorted_str2:\n",
        "    print(\"string anagram \")\n",
        "    return True\n",
        "  else:\n",
        "    print(\"string is not anagram\") # Added else case for clarity\n",
        "    return False # Added return False when strings are not anagram\n",
        "\n",
        "if __name__ == \"__main__\":\n",
        "  str1 = \"shaurya\"\n",
        "  str2 = \"hsaurya\"\n",
        "  anagram(str1,str2)\n",
        "  str1 =\"shaurya\"\n",
        "  str2 = \"chauhan\"\n",
        "  anagram(str1,str2)"
      ],
      "metadata": {
        "colab": {
          "base_uri": "https://localhost:8080/"
        },
        "id": "jok3VPaZYlax",
        "outputId": "ea42e1ae-5151-4ff8-9350-c751c341b704"
      },
      "execution_count": 9,
      "outputs": [
        {
          "output_type": "stream",
          "name": "stdout",
          "text": [
            "string anagram \n",
            "string is not anagram\n"
          ]
        }
      ]
    },
    {
      "cell_type": "code",
      "source": [],
      "metadata": {
        "id": "oprIkYL1bEAO"
      },
      "execution_count": null,
      "outputs": []
    },
    {
      "cell_type": "code",
      "source": [],
      "metadata": {
        "id": "YwpnNE9WbD8y"
      },
      "execution_count": null,
      "outputs": []
    },
    {
      "cell_type": "markdown",
      "source": [
        "**Palindrome a string**"
      ],
      "metadata": {
        "id": "575v4FOQZ3L8"
      }
    },
    {
      "cell_type": "markdown",
      "source": [
        "  ** Conversion of list - S to string is done as --> S = ''join(S)**"
      ],
      "metadata": {
        "id": "GXl9cLrCa4jR"
      }
    },
    {
      "cell_type": "code",
      "source": [
        "# removing upper case letter or changing it into lower case\n",
        "def isPalinSent(s):\n",
        "    # create a new list having only\n",
        "    # alphanumeric characters\n",
        "    s1 = []\n",
        "    for ch in s:\n",
        "        if ch.isalnum():\n",
        "            s1.append(ch.lower())\n",
        "\n",
        "    # convert the new list to string\n",
        "    s1 = ''.join(s1)\n",
        "\n",
        "    # find reverse of this new string\n",
        "    rev = s1[::-1]\n",
        "\n",
        "    # compare string and its reverse\n",
        "    return s1 == rev\n",
        "\n",
        "if __name__ == \"__main__\":\n",
        "    s = \"Too hot to hoot.\"\n",
        "    print(\"true\" if isPalinSent(s) else \"false\")"
      ],
      "metadata": {
        "colab": {
          "base_uri": "https://localhost:8080/"
        },
        "id": "uRFhuAttZ7Yk",
        "outputId": "2339734b-9e5b-42a5-83e0-dc4795127d9f"
      },
      "execution_count": 23,
      "outputs": [
        {
          "output_type": "stream",
          "name": "stdout",
          "text": [
            "true\n"
          ]
        }
      ]
    }
  ],
  "metadata": {
    "colab": {
      "toc_visible": true,
      "provenance": [],
      "include_colab_link": true
    },
    "kernelspec": {
      "display_name": "Python 3",
      "name": "python3"
    }
  },
  "nbformat": 4,
  "nbformat_minor": 0
}